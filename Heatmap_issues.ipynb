{
 "cells": [
  {
   "cell_type": "code",
   "execution_count": 40,
   "metadata": {},
   "outputs": [],
   "source": [
    "import os\n",
    "import _pickle as pickle\n",
    "import pandas as pd                                    \n",
    "import numpy as np                    \n",
    "from collections import defaultdict\n",
    "import folium\n",
    "from folium import plugins\n",
    "from pandas import DataFrame, Series                \n",
    "#matplotlib inline\n",
    "from elasticsearch import Elasticsearch, helpers\n",
    "\n"
   ]
  },
  {
   "cell_type": "code",
   "execution_count": 41,
   "metadata": {},
   "outputs": [],
   "source": [
    "import json\n",
    "issues_pulled = [json.loads(line) for line in open('SPM587SP18issues.json')]#Loading the json file of the issues created in the git repo"
   ]
  },
  {
   "cell_type": "code",
   "execution_count": 42,
   "metadata": {},
   "outputs": [],
   "source": [
    "issues_df = DataFrame(issues_pulled)#Putting the issues into a panda dataframe"
   ]
  },
  {
   "cell_type": "code",
   "execution_count": 43,
   "metadata": {
    "scrolled": true
   },
   "outputs": [
    {
     "data": {
      "text/html": [
       "<div>\n",
       "<style scoped>\n",
       "    .dataframe tbody tr th:only-of-type {\n",
       "        vertical-align: middle;\n",
       "    }\n",
       "\n",
       "    .dataframe tbody tr th {\n",
       "        vertical-align: top;\n",
       "    }\n",
       "\n",
       "    .dataframe thead th {\n",
       "        text-align: right;\n",
       "    }\n",
       "</style>\n",
       "<table border=\"1\" class=\"dataframe\">\n",
       "  <thead>\n",
       "    <tr style=\"text-align: right;\">\n",
       "      <th></th>\n",
       "      <th>Author</th>\n",
       "      <th>State</th>\n",
       "      <th>closed_at</th>\n",
       "      <th>created_at</th>\n",
       "      <th>issue_number</th>\n",
       "      <th>labels</th>\n",
       "    </tr>\n",
       "  </thead>\n",
       "  <tbody>\n",
       "    <tr>\n",
       "      <th>0</th>\n",
       "      <td>HSP18SCM50W</td>\n",
       "      <td>closed</td>\n",
       "      <td>2018-04-22</td>\n",
       "      <td>2018-04-20</td>\n",
       "      <td>475</td>\n",
       "      <td>[Category:Inquiry, DetectionPhase:Field, Origi...</td>\n",
       "    </tr>\n",
       "    <tr>\n",
       "      <th>1</th>\n",
       "      <td>HSP18SCM50W</td>\n",
       "      <td>closed</td>\n",
       "      <td>2018-04-22</td>\n",
       "      <td>2018-04-19</td>\n",
       "      <td>474</td>\n",
       "      <td>[Address:59 W Grand Ave Chicago IL 60654, Cate...</td>\n",
       "    </tr>\n",
       "    <tr>\n",
       "      <th>2</th>\n",
       "      <td>YSP18SCM40K</td>\n",
       "      <td>closed</td>\n",
       "      <td>2018-04-14</td>\n",
       "      <td>2018-04-14</td>\n",
       "      <td>472</td>\n",
       "      <td>[Category:Inquiry, DetectionPhase:Field, Origi...</td>\n",
       "    </tr>\n",
       "    <tr>\n",
       "      <th>3</th>\n",
       "      <td>RSP18SCM19N</td>\n",
       "      <td>closed</td>\n",
       "      <td>2018-04-14</td>\n",
       "      <td>2018-04-14</td>\n",
       "      <td>470</td>\n",
       "      <td>[Category:Enhancement, DetectionPhase:Testing,...</td>\n",
       "    </tr>\n",
       "    <tr>\n",
       "      <th>4</th>\n",
       "      <td>CSP18SCM32L</td>\n",
       "      <td>closed</td>\n",
       "      <td>2018-04-13</td>\n",
       "      <td>2018-04-13</td>\n",
       "      <td>466</td>\n",
       "      <td>[Category:Inquiry, DetectionPhase:Field, Origi...</td>\n",
       "    </tr>\n",
       "    <tr>\n",
       "      <th>5</th>\n",
       "      <td>RSP18SCM19N</td>\n",
       "      <td>closed</td>\n",
       "      <td>2018-04-13</td>\n",
       "      <td>2018-04-13</td>\n",
       "      <td>464</td>\n",
       "      <td>[Address: 2400 N Lincoln Ave Chicago IL 60614,...</td>\n",
       "    </tr>\n",
       "    <tr>\n",
       "      <th>6</th>\n",
       "      <td>MSP18SCM65B</td>\n",
       "      <td>closed</td>\n",
       "      <td>2018-04-13</td>\n",
       "      <td>2018-04-13</td>\n",
       "      <td>461</td>\n",
       "      <td>[Category:Bug, DetectionPhase:Testing, Origina...</td>\n",
       "    </tr>\n",
       "    <tr>\n",
       "      <th>7</th>\n",
       "      <td>JSP18SCM63J</td>\n",
       "      <td>closed</td>\n",
       "      <td>2018-04-13</td>\n",
       "      <td>2018-04-13</td>\n",
       "      <td>459</td>\n",
       "      <td>[]</td>\n",
       "    </tr>\n",
       "    <tr>\n",
       "      <th>8</th>\n",
       "      <td>YSP18SCM35Z</td>\n",
       "      <td>closed</td>\n",
       "      <td>2018-04-13</td>\n",
       "      <td>2018-04-13</td>\n",
       "      <td>454</td>\n",
       "      <td>[Category:Enhancement, DetectionPhase:Testing,...</td>\n",
       "    </tr>\n",
       "    <tr>\n",
       "      <th>9</th>\n",
       "      <td>YSP18SCM40K</td>\n",
       "      <td>closed</td>\n",
       "      <td>2018-04-13</td>\n",
       "      <td>2018-04-13</td>\n",
       "      <td>452</td>\n",
       "      <td>[Address:225 S Canal St Chicago IL 60606, Cate...</td>\n",
       "    </tr>\n",
       "    <tr>\n",
       "      <th>10</th>\n",
       "      <td>ZSP18SCM44L</td>\n",
       "      <td>closed</td>\n",
       "      <td>2018-04-13</td>\n",
       "      <td>2018-04-13</td>\n",
       "      <td>449</td>\n",
       "      <td>[Category:Inquiry, DetectionPhase:Field, Origi...</td>\n",
       "    </tr>\n",
       "    <tr>\n",
       "      <th>11</th>\n",
       "      <td>DSP18SCM14S</td>\n",
       "      <td>closed</td>\n",
       "      <td>2018-04-13</td>\n",
       "      <td>2018-04-13</td>\n",
       "      <td>447</td>\n",
       "      <td>[Category:Inquiry, DetectionPhase:Field, Origi...</td>\n",
       "    </tr>\n",
       "    <tr>\n",
       "      <th>12</th>\n",
       "      <td>RSP18SCM25A</td>\n",
       "      <td>closed</td>\n",
       "      <td>2018-04-13</td>\n",
       "      <td>2018-04-13</td>\n",
       "      <td>445</td>\n",
       "      <td>[Category:Enhancement, DetectionPhase:Testing,...</td>\n",
       "    </tr>\n",
       "    <tr>\n",
       "      <th>13</th>\n",
       "      <td>MSP18SCM01M</td>\n",
       "      <td>closed</td>\n",
       "      <td>2018-04-13</td>\n",
       "      <td>2018-04-13</td>\n",
       "      <td>444</td>\n",
       "      <td>[Category:Enhancement, DetectionPhase:Testing,...</td>\n",
       "    </tr>\n",
       "    <tr>\n",
       "      <th>14</th>\n",
       "      <td>FSP18SCM78A</td>\n",
       "      <td>closed</td>\n",
       "      <td>2018-04-13</td>\n",
       "      <td>2018-04-13</td>\n",
       "      <td>442</td>\n",
       "      <td>[Category:Inquiry, DetectionPhase:Field, Origi...</td>\n",
       "    </tr>\n",
       "    <tr>\n",
       "      <th>15</th>\n",
       "      <td>HSP18SCM81C</td>\n",
       "      <td>closed</td>\n",
       "      <td>2018-04-13</td>\n",
       "      <td>2018-04-13</td>\n",
       "      <td>436</td>\n",
       "      <td>[Category:Bug, DetectionPhase:Testing, Origina...</td>\n",
       "    </tr>\n",
       "    <tr>\n",
       "      <th>16</th>\n",
       "      <td>YSP18SCM71Z</td>\n",
       "      <td>closed</td>\n",
       "      <td>2018-04-13</td>\n",
       "      <td>2018-04-13</td>\n",
       "      <td>435</td>\n",
       "      <td>[Category:Enhancement, DetectionPhase:Testing,...</td>\n",
       "    </tr>\n",
       "    <tr>\n",
       "      <th>17</th>\n",
       "      <td>ASP18SCM05S</td>\n",
       "      <td>closed</td>\n",
       "      <td>2018-04-13</td>\n",
       "      <td>2018-04-13</td>\n",
       "      <td>434</td>\n",
       "      <td>[Category:Enhancement, DetectionPhase:Testing,...</td>\n",
       "    </tr>\n",
       "    <tr>\n",
       "      <th>18</th>\n",
       "      <td>PSP18SCM99P</td>\n",
       "      <td>closed</td>\n",
       "      <td>2018-04-13</td>\n",
       "      <td>2018-04-13</td>\n",
       "      <td>432</td>\n",
       "      <td>[Category:Enhancement, DetectionPhase:Testing,...</td>\n",
       "    </tr>\n",
       "    <tr>\n",
       "      <th>19</th>\n",
       "      <td>SSP18SCM41S</td>\n",
       "      <td>open</td>\n",
       "      <td>None</td>\n",
       "      <td>2018-04-13</td>\n",
       "      <td>430</td>\n",
       "      <td>[Category:Enhancement, DetectionPhase:Testing,...</td>\n",
       "    </tr>\n",
       "    <tr>\n",
       "      <th>20</th>\n",
       "      <td>VSP18SCM42K</td>\n",
       "      <td>closed</td>\n",
       "      <td>2018-04-13</td>\n",
       "      <td>2018-04-13</td>\n",
       "      <td>424</td>\n",
       "      <td>[Category:Inquiry, DetectionPhase:Field, Origi...</td>\n",
       "    </tr>\n",
       "    <tr>\n",
       "      <th>21</th>\n",
       "      <td>ASP18SCM05A</td>\n",
       "      <td>closed</td>\n",
       "      <td>2018-04-13</td>\n",
       "      <td>2018-04-13</td>\n",
       "      <td>422</td>\n",
       "      <td>[Category:Enhancement, DetectionPhase:Testing,...</td>\n",
       "    </tr>\n",
       "    <tr>\n",
       "      <th>22</th>\n",
       "      <td>SSP18SCM19P</td>\n",
       "      <td>closed</td>\n",
       "      <td>2018-04-13</td>\n",
       "      <td>2018-04-13</td>\n",
       "      <td>420</td>\n",
       "      <td>[Category:Bug, DetectionPhase:Testing, Origina...</td>\n",
       "    </tr>\n",
       "    <tr>\n",
       "      <th>23</th>\n",
       "      <td>NSP18SCM35K</td>\n",
       "      <td>closed</td>\n",
       "      <td>2018-04-13</td>\n",
       "      <td>2018-04-13</td>\n",
       "      <td>415</td>\n",
       "      <td>[Category:Enhancement, DetectionPhase:Testing,...</td>\n",
       "    </tr>\n",
       "    <tr>\n",
       "      <th>24</th>\n",
       "      <td>PSP18SCM99P</td>\n",
       "      <td>closed</td>\n",
       "      <td>2018-04-13</td>\n",
       "      <td>2018-04-13</td>\n",
       "      <td>411</td>\n",
       "      <td>[Category:Enhancement, DetectionPhase:Testing,...</td>\n",
       "    </tr>\n",
       "    <tr>\n",
       "      <th>25</th>\n",
       "      <td>SSP18SCM10S</td>\n",
       "      <td>closed</td>\n",
       "      <td>2018-04-13</td>\n",
       "      <td>2018-04-13</td>\n",
       "      <td>410</td>\n",
       "      <td>[Category:Inquiry, DetectionPhase:Field, Origi...</td>\n",
       "    </tr>\n",
       "    <tr>\n",
       "      <th>26</th>\n",
       "      <td>TSP18SCM03A</td>\n",
       "      <td>closed</td>\n",
       "      <td>2018-04-13</td>\n",
       "      <td>2018-04-13</td>\n",
       "      <td>409</td>\n",
       "      <td>[Category:Enhancement, DetectionPhase:Testing,...</td>\n",
       "    </tr>\n",
       "    <tr>\n",
       "      <th>27</th>\n",
       "      <td>KSP18SCM22B</td>\n",
       "      <td>closed</td>\n",
       "      <td>2018-04-13</td>\n",
       "      <td>2018-04-13</td>\n",
       "      <td>404</td>\n",
       "      <td>[Category:Inquiry, DetectionPhase:Field, Origi...</td>\n",
       "    </tr>\n",
       "    <tr>\n",
       "      <th>28</th>\n",
       "      <td>PSP18SCM73A</td>\n",
       "      <td>closed</td>\n",
       "      <td>2018-04-13</td>\n",
       "      <td>2018-04-13</td>\n",
       "      <td>403</td>\n",
       "      <td>[Category:Enhancement, DetectionPhase:Testing,...</td>\n",
       "    </tr>\n",
       "    <tr>\n",
       "      <th>29</th>\n",
       "      <td>ASP18SCM22S</td>\n",
       "      <td>closed</td>\n",
       "      <td>2018-04-13</td>\n",
       "      <td>2018-04-13</td>\n",
       "      <td>401</td>\n",
       "      <td>[Category:Inquiry, DetectionPhase:Field, Origi...</td>\n",
       "    </tr>\n",
       "    <tr>\n",
       "      <th>...</th>\n",
       "      <td>...</td>\n",
       "      <td>...</td>\n",
       "      <td>...</td>\n",
       "      <td>...</td>\n",
       "      <td>...</td>\n",
       "      <td>...</td>\n",
       "    </tr>\n",
       "    <tr>\n",
       "      <th>225</th>\n",
       "      <td>HSP18SCM69D</td>\n",
       "      <td>open</td>\n",
       "      <td>None</td>\n",
       "      <td>2018-04-09</td>\n",
       "      <td>31</td>\n",
       "      <td>[Address:119 NORTH WABASH, Category:Bug, Detec...</td>\n",
       "    </tr>\n",
       "    <tr>\n",
       "      <th>226</th>\n",
       "      <td>HSP18SCM69D</td>\n",
       "      <td>open</td>\n",
       "      <td>None</td>\n",
       "      <td>2018-04-09</td>\n",
       "      <td>30</td>\n",
       "      <td>[Address:111 W JACKSON, Category:Enhancement, ...</td>\n",
       "    </tr>\n",
       "    <tr>\n",
       "      <th>227</th>\n",
       "      <td>HSP18SCM69D</td>\n",
       "      <td>open</td>\n",
       "      <td>None</td>\n",
       "      <td>2018-04-09</td>\n",
       "      <td>29</td>\n",
       "      <td>[Address:23 S CLARK, Category:Bug, DetectionPh...</td>\n",
       "    </tr>\n",
       "    <tr>\n",
       "      <th>228</th>\n",
       "      <td>HSP18SCM69D</td>\n",
       "      <td>open</td>\n",
       "      <td>None</td>\n",
       "      <td>2018-04-09</td>\n",
       "      <td>28</td>\n",
       "      <td>[Address:1951 N WESTERN AVE, Category:Bug, Det...</td>\n",
       "    </tr>\n",
       "    <tr>\n",
       "      <th>229</th>\n",
       "      <td>HSP18SCM69D</td>\n",
       "      <td>open</td>\n",
       "      <td>None</td>\n",
       "      <td>2018-04-09</td>\n",
       "      <td>27</td>\n",
       "      <td>[Address:645 N MCCLURG CT, Category:Inquiry, D...</td>\n",
       "    </tr>\n",
       "    <tr>\n",
       "      <th>230</th>\n",
       "      <td>HSP18SCM69D</td>\n",
       "      <td>open</td>\n",
       "      <td>None</td>\n",
       "      <td>2018-04-09</td>\n",
       "      <td>26</td>\n",
       "      <td>[Address:1951 N WESTERN AVE, Category:Enhancem...</td>\n",
       "    </tr>\n",
       "    <tr>\n",
       "      <th>231</th>\n",
       "      <td>HSP18SCM69D</td>\n",
       "      <td>open</td>\n",
       "      <td>None</td>\n",
       "      <td>2018-04-09</td>\n",
       "      <td>25</td>\n",
       "      <td>[Address:645 N MCCLURG CT, Category:Bug, Detec...</td>\n",
       "    </tr>\n",
       "    <tr>\n",
       "      <th>232</th>\n",
       "      <td>HSP18SCM69D</td>\n",
       "      <td>open</td>\n",
       "      <td>None</td>\n",
       "      <td>2018-04-09</td>\n",
       "      <td>24</td>\n",
       "      <td>[Address:600 E GRAND AVE, Category:Inquiry, De...</td>\n",
       "    </tr>\n",
       "    <tr>\n",
       "      <th>233</th>\n",
       "      <td>HSP18SCM69D</td>\n",
       "      <td>open</td>\n",
       "      <td>None</td>\n",
       "      <td>2018-04-09</td>\n",
       "      <td>23</td>\n",
       "      <td>[Address:119 NORTH WABASH, Category:Enhancemen...</td>\n",
       "    </tr>\n",
       "    <tr>\n",
       "      <th>234</th>\n",
       "      <td>HSP18SCM69D</td>\n",
       "      <td>open</td>\n",
       "      <td>None</td>\n",
       "      <td>2018-04-09</td>\n",
       "      <td>22</td>\n",
       "      <td>[Address:233 W JACKSON, Category:Bug, Detectio...</td>\n",
       "    </tr>\n",
       "    <tr>\n",
       "      <th>235</th>\n",
       "      <td>HSP18SCM69D</td>\n",
       "      <td>open</td>\n",
       "      <td>None</td>\n",
       "      <td>2018-04-09</td>\n",
       "      <td>21</td>\n",
       "      <td>[Address:111 W JACKSON, Category:Inquiry, Dete...</td>\n",
       "    </tr>\n",
       "    <tr>\n",
       "      <th>236</th>\n",
       "      <td>HSP18SCM69D</td>\n",
       "      <td>open</td>\n",
       "      <td>None</td>\n",
       "      <td>2018-04-09</td>\n",
       "      <td>20</td>\n",
       "      <td>[Address:119 NORTH WABASH, Category:Enhancemen...</td>\n",
       "    </tr>\n",
       "    <tr>\n",
       "      <th>237</th>\n",
       "      <td>HSP18SCM69D</td>\n",
       "      <td>open</td>\n",
       "      <td>None</td>\n",
       "      <td>2018-04-09</td>\n",
       "      <td>19</td>\n",
       "      <td>[Address:119 NORTH WABASH, Category:Bug, Detec...</td>\n",
       "    </tr>\n",
       "    <tr>\n",
       "      <th>238</th>\n",
       "      <td>HSP18SCM69D</td>\n",
       "      <td>open</td>\n",
       "      <td>None</td>\n",
       "      <td>2018-04-09</td>\n",
       "      <td>18</td>\n",
       "      <td>[Address:111 W JACKSON, Category:Inquiry, Dete...</td>\n",
       "    </tr>\n",
       "    <tr>\n",
       "      <th>239</th>\n",
       "      <td>HSP18SCM69D</td>\n",
       "      <td>open</td>\n",
       "      <td>None</td>\n",
       "      <td>2018-04-09</td>\n",
       "      <td>17</td>\n",
       "      <td>[Address:23 S CLARK, Category:Enhancement, Det...</td>\n",
       "    </tr>\n",
       "    <tr>\n",
       "      <th>240</th>\n",
       "      <td>HSP18SCM69D</td>\n",
       "      <td>open</td>\n",
       "      <td>None</td>\n",
       "      <td>2018-04-09</td>\n",
       "      <td>16</td>\n",
       "      <td>[Address:23 S CLARK, Category:Inquiry, Detecti...</td>\n",
       "    </tr>\n",
       "    <tr>\n",
       "      <th>241</th>\n",
       "      <td>HSP18SCM69D</td>\n",
       "      <td>open</td>\n",
       "      <td>None</td>\n",
       "      <td>2018-04-09</td>\n",
       "      <td>15</td>\n",
       "      <td>[Address:2525 S Martin Luther King Drive, Cate...</td>\n",
       "    </tr>\n",
       "    <tr>\n",
       "      <th>242</th>\n",
       "      <td>HSP18SCM69D</td>\n",
       "      <td>open</td>\n",
       "      <td>None</td>\n",
       "      <td>2018-04-09</td>\n",
       "      <td>14</td>\n",
       "      <td>[Address:1951 N WESTERN AVE, Category:Bug, Det...</td>\n",
       "    </tr>\n",
       "    <tr>\n",
       "      <th>243</th>\n",
       "      <td>HSP18SCM69D</td>\n",
       "      <td>open</td>\n",
       "      <td>None</td>\n",
       "      <td>2018-04-09</td>\n",
       "      <td>13</td>\n",
       "      <td>[Address:645 N MCCLURG CT, Category:Enhancemen...</td>\n",
       "    </tr>\n",
       "    <tr>\n",
       "      <th>244</th>\n",
       "      <td>HSP18SCM69D</td>\n",
       "      <td>open</td>\n",
       "      <td>None</td>\n",
       "      <td>2018-04-09</td>\n",
       "      <td>12</td>\n",
       "      <td>[Address:645 N MCCLURG CT, Category:Inquiry, D...</td>\n",
       "    </tr>\n",
       "    <tr>\n",
       "      <th>245</th>\n",
       "      <td>HSP18SCM69D</td>\n",
       "      <td>open</td>\n",
       "      <td>None</td>\n",
       "      <td>2018-04-09</td>\n",
       "      <td>11</td>\n",
       "      <td>[Address:600 E GRAND AVE, Category:Bug, Detect...</td>\n",
       "    </tr>\n",
       "    <tr>\n",
       "      <th>246</th>\n",
       "      <td>HSP18SCM69D</td>\n",
       "      <td>open</td>\n",
       "      <td>None</td>\n",
       "      <td>2018-04-09</td>\n",
       "      <td>10</td>\n",
       "      <td>[Address:233 W JACKSON, Category:Enhancement, ...</td>\n",
       "    </tr>\n",
       "    <tr>\n",
       "      <th>247</th>\n",
       "      <td>HSP18SCM69D</td>\n",
       "      <td>open</td>\n",
       "      <td>None</td>\n",
       "      <td>2018-04-09</td>\n",
       "      <td>9</td>\n",
       "      <td>[Address:119 NORTH WABASH, Category:Enhancemen...</td>\n",
       "    </tr>\n",
       "    <tr>\n",
       "      <th>248</th>\n",
       "      <td>HSP18SCM69D</td>\n",
       "      <td>open</td>\n",
       "      <td>None</td>\n",
       "      <td>2018-04-09</td>\n",
       "      <td>8</td>\n",
       "      <td>[Address:119 NORTH WABASH, Category:Bug, Detec...</td>\n",
       "    </tr>\n",
       "    <tr>\n",
       "      <th>249</th>\n",
       "      <td>HSP18SCM69D</td>\n",
       "      <td>open</td>\n",
       "      <td>None</td>\n",
       "      <td>2018-04-09</td>\n",
       "      <td>7</td>\n",
       "      <td>[Address:111 W JACKSON, Category:Inquiry, Dete...</td>\n",
       "    </tr>\n",
       "    <tr>\n",
       "      <th>250</th>\n",
       "      <td>HSP18SCM69D</td>\n",
       "      <td>open</td>\n",
       "      <td>None</td>\n",
       "      <td>2018-04-09</td>\n",
       "      <td>6</td>\n",
       "      <td>[Address:111 W JACKSON, Category:Bug, Detectio...</td>\n",
       "    </tr>\n",
       "    <tr>\n",
       "      <th>251</th>\n",
       "      <td>HSP18SCM69D</td>\n",
       "      <td>open</td>\n",
       "      <td>None</td>\n",
       "      <td>2018-04-09</td>\n",
       "      <td>5</td>\n",
       "      <td>[Address:23 S CLARK, Category:Enhancement, Det...</td>\n",
       "    </tr>\n",
       "    <tr>\n",
       "      <th>252</th>\n",
       "      <td>HSP18SCM69D</td>\n",
       "      <td>open</td>\n",
       "      <td>None</td>\n",
       "      <td>2018-04-09</td>\n",
       "      <td>4</td>\n",
       "      <td>[Address:23 S CLARK, Category:Enhancement, Det...</td>\n",
       "    </tr>\n",
       "    <tr>\n",
       "      <th>253</th>\n",
       "      <td>SPM587SP18</td>\n",
       "      <td>closed</td>\n",
       "      <td>2018-04-09</td>\n",
       "      <td>2018-04-08</td>\n",
       "      <td>3</td>\n",
       "      <td>[Address:2525 S Martin Luther King Drive, Cate...</td>\n",
       "    </tr>\n",
       "    <tr>\n",
       "      <th>254</th>\n",
       "      <td>SPM587SP18</td>\n",
       "      <td>closed</td>\n",
       "      <td>2018-04-06</td>\n",
       "      <td>2018-03-30</td>\n",
       "      <td>2</td>\n",
       "      <td>[Address:2525 S Martin Luther King Drive, Cate...</td>\n",
       "    </tr>\n",
       "  </tbody>\n",
       "</table>\n",
       "<p>255 rows × 6 columns</p>\n",
       "</div>"
      ],
      "text/plain": [
       "          Author   State   closed_at  created_at  issue_number  \\\n",
       "0    HSP18SCM50W  closed  2018-04-22  2018-04-20           475   \n",
       "1    HSP18SCM50W  closed  2018-04-22  2018-04-19           474   \n",
       "2    YSP18SCM40K  closed  2018-04-14  2018-04-14           472   \n",
       "3    RSP18SCM19N  closed  2018-04-14  2018-04-14           470   \n",
       "4    CSP18SCM32L  closed  2018-04-13  2018-04-13           466   \n",
       "5    RSP18SCM19N  closed  2018-04-13  2018-04-13           464   \n",
       "6    MSP18SCM65B  closed  2018-04-13  2018-04-13           461   \n",
       "7    JSP18SCM63J  closed  2018-04-13  2018-04-13           459   \n",
       "8    YSP18SCM35Z  closed  2018-04-13  2018-04-13           454   \n",
       "9    YSP18SCM40K  closed  2018-04-13  2018-04-13           452   \n",
       "10   ZSP18SCM44L  closed  2018-04-13  2018-04-13           449   \n",
       "11   DSP18SCM14S  closed  2018-04-13  2018-04-13           447   \n",
       "12   RSP18SCM25A  closed  2018-04-13  2018-04-13           445   \n",
       "13   MSP18SCM01M  closed  2018-04-13  2018-04-13           444   \n",
       "14   FSP18SCM78A  closed  2018-04-13  2018-04-13           442   \n",
       "15   HSP18SCM81C  closed  2018-04-13  2018-04-13           436   \n",
       "16   YSP18SCM71Z  closed  2018-04-13  2018-04-13           435   \n",
       "17   ASP18SCM05S  closed  2018-04-13  2018-04-13           434   \n",
       "18   PSP18SCM99P  closed  2018-04-13  2018-04-13           432   \n",
       "19   SSP18SCM41S    open        None  2018-04-13           430   \n",
       "20   VSP18SCM42K  closed  2018-04-13  2018-04-13           424   \n",
       "21   ASP18SCM05A  closed  2018-04-13  2018-04-13           422   \n",
       "22   SSP18SCM19P  closed  2018-04-13  2018-04-13           420   \n",
       "23   NSP18SCM35K  closed  2018-04-13  2018-04-13           415   \n",
       "24   PSP18SCM99P  closed  2018-04-13  2018-04-13           411   \n",
       "25   SSP18SCM10S  closed  2018-04-13  2018-04-13           410   \n",
       "26   TSP18SCM03A  closed  2018-04-13  2018-04-13           409   \n",
       "27   KSP18SCM22B  closed  2018-04-13  2018-04-13           404   \n",
       "28   PSP18SCM73A  closed  2018-04-13  2018-04-13           403   \n",
       "29   ASP18SCM22S  closed  2018-04-13  2018-04-13           401   \n",
       "..           ...     ...         ...         ...           ...   \n",
       "225  HSP18SCM69D    open        None  2018-04-09            31   \n",
       "226  HSP18SCM69D    open        None  2018-04-09            30   \n",
       "227  HSP18SCM69D    open        None  2018-04-09            29   \n",
       "228  HSP18SCM69D    open        None  2018-04-09            28   \n",
       "229  HSP18SCM69D    open        None  2018-04-09            27   \n",
       "230  HSP18SCM69D    open        None  2018-04-09            26   \n",
       "231  HSP18SCM69D    open        None  2018-04-09            25   \n",
       "232  HSP18SCM69D    open        None  2018-04-09            24   \n",
       "233  HSP18SCM69D    open        None  2018-04-09            23   \n",
       "234  HSP18SCM69D    open        None  2018-04-09            22   \n",
       "235  HSP18SCM69D    open        None  2018-04-09            21   \n",
       "236  HSP18SCM69D    open        None  2018-04-09            20   \n",
       "237  HSP18SCM69D    open        None  2018-04-09            19   \n",
       "238  HSP18SCM69D    open        None  2018-04-09            18   \n",
       "239  HSP18SCM69D    open        None  2018-04-09            17   \n",
       "240  HSP18SCM69D    open        None  2018-04-09            16   \n",
       "241  HSP18SCM69D    open        None  2018-04-09            15   \n",
       "242  HSP18SCM69D    open        None  2018-04-09            14   \n",
       "243  HSP18SCM69D    open        None  2018-04-09            13   \n",
       "244  HSP18SCM69D    open        None  2018-04-09            12   \n",
       "245  HSP18SCM69D    open        None  2018-04-09            11   \n",
       "246  HSP18SCM69D    open        None  2018-04-09            10   \n",
       "247  HSP18SCM69D    open        None  2018-04-09             9   \n",
       "248  HSP18SCM69D    open        None  2018-04-09             8   \n",
       "249  HSP18SCM69D    open        None  2018-04-09             7   \n",
       "250  HSP18SCM69D    open        None  2018-04-09             6   \n",
       "251  HSP18SCM69D    open        None  2018-04-09             5   \n",
       "252  HSP18SCM69D    open        None  2018-04-09             4   \n",
       "253   SPM587SP18  closed  2018-04-09  2018-04-08             3   \n",
       "254   SPM587SP18  closed  2018-04-06  2018-03-30             2   \n",
       "\n",
       "                                                labels  \n",
       "0    [Category:Inquiry, DetectionPhase:Field, Origi...  \n",
       "1    [Address:59 W Grand Ave Chicago IL 60654, Cate...  \n",
       "2    [Category:Inquiry, DetectionPhase:Field, Origi...  \n",
       "3    [Category:Enhancement, DetectionPhase:Testing,...  \n",
       "4    [Category:Inquiry, DetectionPhase:Field, Origi...  \n",
       "5    [Address: 2400 N Lincoln Ave Chicago IL 60614,...  \n",
       "6    [Category:Bug, DetectionPhase:Testing, Origina...  \n",
       "7                                                   []  \n",
       "8    [Category:Enhancement, DetectionPhase:Testing,...  \n",
       "9    [Address:225 S Canal St Chicago IL 60606, Cate...  \n",
       "10   [Category:Inquiry, DetectionPhase:Field, Origi...  \n",
       "11   [Category:Inquiry, DetectionPhase:Field, Origi...  \n",
       "12   [Category:Enhancement, DetectionPhase:Testing,...  \n",
       "13   [Category:Enhancement, DetectionPhase:Testing,...  \n",
       "14   [Category:Inquiry, DetectionPhase:Field, Origi...  \n",
       "15   [Category:Bug, DetectionPhase:Testing, Origina...  \n",
       "16   [Category:Enhancement, DetectionPhase:Testing,...  \n",
       "17   [Category:Enhancement, DetectionPhase:Testing,...  \n",
       "18   [Category:Enhancement, DetectionPhase:Testing,...  \n",
       "19   [Category:Enhancement, DetectionPhase:Testing,...  \n",
       "20   [Category:Inquiry, DetectionPhase:Field, Origi...  \n",
       "21   [Category:Enhancement, DetectionPhase:Testing,...  \n",
       "22   [Category:Bug, DetectionPhase:Testing, Origina...  \n",
       "23   [Category:Enhancement, DetectionPhase:Testing,...  \n",
       "24   [Category:Enhancement, DetectionPhase:Testing,...  \n",
       "25   [Category:Inquiry, DetectionPhase:Field, Origi...  \n",
       "26   [Category:Enhancement, DetectionPhase:Testing,...  \n",
       "27   [Category:Inquiry, DetectionPhase:Field, Origi...  \n",
       "28   [Category:Enhancement, DetectionPhase:Testing,...  \n",
       "29   [Category:Inquiry, DetectionPhase:Field, Origi...  \n",
       "..                                                 ...  \n",
       "225  [Address:119 NORTH WABASH, Category:Bug, Detec...  \n",
       "226  [Address:111 W JACKSON, Category:Enhancement, ...  \n",
       "227  [Address:23 S CLARK, Category:Bug, DetectionPh...  \n",
       "228  [Address:1951 N WESTERN AVE, Category:Bug, Det...  \n",
       "229  [Address:645 N MCCLURG CT, Category:Inquiry, D...  \n",
       "230  [Address:1951 N WESTERN AVE, Category:Enhancem...  \n",
       "231  [Address:645 N MCCLURG CT, Category:Bug, Detec...  \n",
       "232  [Address:600 E GRAND AVE, Category:Inquiry, De...  \n",
       "233  [Address:119 NORTH WABASH, Category:Enhancemen...  \n",
       "234  [Address:233 W JACKSON, Category:Bug, Detectio...  \n",
       "235  [Address:111 W JACKSON, Category:Inquiry, Dete...  \n",
       "236  [Address:119 NORTH WABASH, Category:Enhancemen...  \n",
       "237  [Address:119 NORTH WABASH, Category:Bug, Detec...  \n",
       "238  [Address:111 W JACKSON, Category:Inquiry, Dete...  \n",
       "239  [Address:23 S CLARK, Category:Enhancement, Det...  \n",
       "240  [Address:23 S CLARK, Category:Inquiry, Detecti...  \n",
       "241  [Address:2525 S Martin Luther King Drive, Cate...  \n",
       "242  [Address:1951 N WESTERN AVE, Category:Bug, Det...  \n",
       "243  [Address:645 N MCCLURG CT, Category:Enhancemen...  \n",
       "244  [Address:645 N MCCLURG CT, Category:Inquiry, D...  \n",
       "245  [Address:600 E GRAND AVE, Category:Bug, Detect...  \n",
       "246  [Address:233 W JACKSON, Category:Enhancement, ...  \n",
       "247  [Address:119 NORTH WABASH, Category:Enhancemen...  \n",
       "248  [Address:119 NORTH WABASH, Category:Bug, Detec...  \n",
       "249  [Address:111 W JACKSON, Category:Inquiry, Dete...  \n",
       "250  [Address:111 W JACKSON, Category:Bug, Detectio...  \n",
       "251  [Address:23 S CLARK, Category:Enhancement, Det...  \n",
       "252  [Address:23 S CLARK, Category:Enhancement, Det...  \n",
       "253  [Address:2525 S Martin Luther King Drive, Cate...  \n",
       "254  [Address:2525 S Martin Luther King Drive, Cate...  \n",
       "\n",
       "[255 rows x 6 columns]"
      ]
     },
     "execution_count": 43,
     "metadata": {},
     "output_type": "execute_result"
    }
   ],
   "source": [
    "issues_df #Printing issues_df\n"
   ]
  },
  {
   "cell_type": "code",
   "execution_count": 44,
   "metadata": {},
   "outputs": [],
   "source": [
    "wrangled_issues_df = issues_df[['Author','State','closed_at','created_at','issue_number','labels']]# as per the code given in the tutorial,filtering and arranging the Dataframe \n",
    "wrangled_issues_df.loc[0:len(wrangled_issues_df), 'OriginationPhase']= np.NaN\n",
    "wrangled_issues_df.loc[0:len(wrangled_issues_df),'DetectionPhase']= np.NaN\n",
    "wrangled_issues_df.loc[0:len(wrangled_issues_df),'Category']= np.NaN\n",
    "wrangled_issues_df.loc[0:len(wrangled_issues_df),'Priority']= np.NaN\n",
    "wrangled_issues_df.loc[0:len(wrangled_issues_df),'Status']= np.NaN\n"
   ]
  },
  {
   "cell_type": "code",
   "execution_count": 45,
   "metadata": {},
   "outputs": [],
   "source": [
    "newList = list() #creating a new list\n",
    "for i in range(0, len(wrangled_issues_df)):#Since in the json file, the labels are not in form of key value pair, but an array of string, they cannot be accessed\n",
    "#thus the label part of dataframe is split into a new dictioanry of key value pair and updated into the new list.\n",
    "    tempDictionary = dict()\n",
    "    if wrangled_issues_df.iloc[i]['labels']:\n",
    "        for label in wrangled_issues_df.iloc[i]['labels']:\n",
    "            label_name= (label.split(':'))[0]\n",
    "            label_value= (label.split(':'))[1]\n",
    "            tempDictionary.update({label_name : label_value})\n",
    "    tempDictionary.update({'issue_number' : int(wrangled_issues_df.iloc[i]['issue_number'])})#Since the panda dataframe uses numpy iteger, casting it into\n",
    "    # primitive integer, as elastic search only accepts primitve data types.\n",
    "    newList.append(tempDictionary) "
   ]
  },
  {
   "cell_type": "code",
   "execution_count": 46,
   "metadata": {
    "scrolled": false
   },
   "outputs": [],
   "source": [
    "#newList"
   ]
  },
  {
   "cell_type": "code",
   "execution_count": 47,
   "metadata": {},
   "outputs": [
    {
     "data": {
      "text/plain": [
       "(255, [])"
      ]
     },
     "execution_count": 47,
     "metadata": {},
     "output_type": "execute_result"
    }
   ],
   "source": [
    "actions = list() #updating elastic search database as per given \n",
    "es = Elasticsearch()\n",
    "for data in newList:\n",
    "    action = {\n",
    "        '_index':'issues_database',\n",
    "        '_type':'gitRepo',\n",
    "        '_id':data['issue_number'],\n",
    "        '_source':data\n",
    "    }\n",
    "    actions.append(action)\n",
    "helpers.bulk(es,actions)\n",
    "    "
   ]
  },
  {
   "cell_type": "code",
   "execution_count": 48,
   "metadata": {},
   "outputs": [],
   "source": [
    "first_query = { #first query where all the issues are pulled from the database\n",
    "    'size' : 500,\n",
    "    'query' : {\n",
    "        'match_all' : {}\n",
    "    }\n",
    "}\n",
    "queried_output_first = es.search(index = 'issues', body=first_query,scroll='1h') #issues are stored in json format"
   ]
  },
  {
   "cell_type": "code",
   "execution_count": 80,
   "metadata": {},
   "outputs": [
    {
     "data": {
      "text/plain": [
       "{'_id': '470',\n",
       " '_index': 'issues',\n",
       " '_score': 1.0,\n",
       " '_source': {'Category': 'Enhancement',\n",
       "  'DetectionPhase': 'Testing',\n",
       "  'OriginationPhase': 'Design',\n",
       "  'Priority': 'Major',\n",
       "  'Status': 'Completed',\n",
       "  'issue_number': 470},\n",
       " '_type': 'shreyas'}"
      ]
     },
     "execution_count": 80,
     "metadata": {},
     "output_type": "execute_result"
    }
   ],
   "source": [
    "queried_output_first['hits']['hits'][0]"
   ]
  },
  {
   "cell_type": "code",
   "execution_count": 50,
   "metadata": {},
   "outputs": [],
   "source": [
    "sid = queried_output_first['_scroll_id'] #As per the tutorial code, setting the scroll size.\n",
    "scroll_size = queried_output_first['hits']['total']"
   ]
  },
  {
   "cell_type": "code",
   "execution_count": 51,
   "metadata": {
    "scrolled": false
   },
   "outputs": [],
   "source": [
    "count = 0\n",
    "first_query_coord = []\n",
    "while(scroll_size > count):\n",
    "    for doc in queried_output_first['hits']['hits']:  #As per the code in the tutorial, accessing the values in the key(data['hits']['hits'])\n",
    "# This the key value format generated by the elastic search when pulled from the database. The value of this key contains all the various labels.\n",
    "        location_ll = []\n",
    "        results = doc['_source']\n",
    "        count = count +1\n",
    "        if 'Latitude' in results.keys():\n",
    "            if 'Longitude' in results.keys():\n",
    "                if(results['Latitude'] != None and results['Longitude'] != None):\n",
    "                    location_ll.append(float(results['Latitude']))\n",
    "                    location_ll.append(float(results['Longitude']))\n",
    "                    first_query_coord.append(location_ll)\n",
    "    \n",
    "                    "
   ]
  },
  {
   "cell_type": "code",
   "execution_count": 52,
   "metadata": {},
   "outputs": [
    {
     "name": "stdout",
     "output_type": "stream",
     "text": [
      "137\n"
     ]
    }
   ],
   "source": [
    "print(len(first_query_coord))"
   ]
  },
  {
   "cell_type": "code",
   "execution_count": 53,
   "metadata": {
    "scrolled": false
   },
   "outputs": [
    {
     "data": {
      "text/html": [
       "<div style=\"width:100%;\"><div style=\"position:relative;width:100%;height:0;padding-bottom:60%;\"><iframe src=\"data:text/html;charset=utf-8;base64,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\" style=\"position:absolute;width:100%;height:100%;left:0;top:0;border:none !important;\" allowfullscreen webkitallowfullscreen mozallowfullscreen></iframe></div></div>"
      ],
      "text/plain": [
       "<folium.folium.Map at 0x10ca55cc0>"
      ]
     },
     "execution_count": 53,
     "metadata": {},
     "output_type": "execute_result"
    }
   ],
   "source": [
    "first_query_heat_map = folium.Map([41.891551, -87.607375],zoom_start = 16)\n",
    "first_query_heat_map.add_child(plugins.HeatMap(first_query_coord,radius=15))"
   ]
  },
  {
   "cell_type": "code",
   "execution_count": 54,
   "metadata": {},
   "outputs": [],
   "source": [
    "second_query = { #second query to match the labels given\n",
    "    'size' : 500,\n",
    "    'query' : {\n",
    "        'bool':{\n",
    "            'must' : [{'match':{'DetectionPhase':'Field'}},\n",
    "                      {'match':{'Priority':'Critical'}}]\n",
    "        }\n",
    "    }\n",
    "}\n",
    "queried_output_second = es.search(index = 'issues', body=second_query,scroll='1h')#This is a dictionary variable. Pulls data and stores as key value pair in the dictionary."
   ]
  },
  {
   "cell_type": "code",
   "execution_count": 55,
   "metadata": {},
   "outputs": [],
   "source": [
    "sid = queried_output_second['_scroll_id']\n",
    "scroll_size = queried_output_second['hits']['total']"
   ]
  },
  {
   "cell_type": "code",
   "execution_count": 56,
   "metadata": {},
   "outputs": [],
   "source": [
    "count = 0 #As per the tutorial, accessing the Latitude and Longitude values from key, and storing them into an array. The if else condition checks\n",
    "#if the issues have those values or not, if not then that issue is skipped.\n",
    "second_query_coord = []\n",
    "while(scroll_size > count):\n",
    "    for doc in queried_output_second['hits']['hits']:\n",
    "        location_ll = []\n",
    "        results = doc['_source']\n",
    "        count = count +1\n",
    "        if 'Latitude' in results.keys():\n",
    "            if 'Longitude' in results.keys():\n",
    "                if(results['Latitude'] != None and results['Longitude'] != None):\n",
    "                    location_ll.append(float(results['Latitude']))\n",
    "                    location_ll.append(float(results['Longitude']))\n",
    "                    second_query_coord.append(location_ll)\n",
    "    \n",
    "                    "
   ]
  },
  {
   "cell_type": "code",
   "execution_count": 57,
   "metadata": {},
   "outputs": [
    {
     "name": "stdout",
     "output_type": "stream",
     "text": [
      "3\n"
     ]
    }
   ],
   "source": [
    "print(len(second_query_coord))"
   ]
  },
  {
   "cell_type": "code",
   "execution_count": 58,
   "metadata": {},
   "outputs": [
    {
     "data": {
      "text/html": [
       "<div style=\"width:100%;\"><div style=\"position:relative;width:100%;height:0;padding-bottom:60%;\"><iframe src=\"data:text/html;charset=utf-8;base64,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\" style=\"position:absolute;width:100%;height:100%;left:0;top:0;border:none !important;\" allowfullscreen webkitallowfullscreen mozallowfullscreen></iframe></div></div>"
      ],
      "text/plain": [
       "<folium.folium.Map at 0x10cb41e48>"
      ]
     },
     "execution_count": 58,
     "metadata": {},
     "output_type": "execute_result"
    }
   ],
   "source": [
    "second_query_heat_map = folium.Map([41.891551, -87.607375],zoom_start = 16) #Syntax of folium map. Setting the default location tp view.\n",
    "second_query_heat_map.add_child(plugins.HeatMap(second_query_coord,radius=15)) #plot the coordinates onto the map."
   ]
  },
  {
   "cell_type": "code",
   "execution_count": 59,
   "metadata": {},
   "outputs": [],
   "source": [
    "third_query = { #Third query to match the given labels \n",
    "    'size' : 500,\n",
    "    'query' : {\n",
    "        'bool':{\n",
    "            'must' : [{'match':{'DetectionPhase':'Field'}},\n",
    "                      {'match':{'Status':'Completed'}}]\n",
    "        }\n",
    "    }\n",
    "}\n",
    "queried_output_third = es.search(index = 'issues', body=third_query,scroll='1h')#This is a dictionary variable. Pulls data and stores as key value pair in the dictionary."
   ]
  },
  {
   "cell_type": "code",
   "execution_count": 60,
   "metadata": {},
   "outputs": [],
   "source": [
    "sid = queried_output_third['_scroll_id']\n",
    "scroll_size = queried_output_third['hits']['total']"
   ]
  },
  {
   "cell_type": "code",
   "execution_count": 61,
   "metadata": {},
   "outputs": [],
   "source": [
    "count = 0\n",
    "third_query_coord = []\n",
    "while(scroll_size > count):\n",
    "    for doc in queried_output_third['hits']['hits']:\n",
    "        location_ll = []\n",
    "        results = doc['_source']\n",
    "        count = count +1\n",
    "        if 'Latitude' in results.keys():\n",
    "            if 'Longitude' in results.keys():\n",
    "                if(results['Latitude'] != None and results['Longitude'] != None):\n",
    "                    location_ll.append(float(results['Latitude']))\n",
    "                    location_ll.append(float(results['Longitude']))\n",
    "                    third_query_coord.append(location_ll)\n",
    "    \n",
    "                    "
   ]
  },
  {
   "cell_type": "code",
   "execution_count": 62,
   "metadata": {},
   "outputs": [
    {
     "name": "stdout",
     "output_type": "stream",
     "text": [
      "4\n"
     ]
    }
   ],
   "source": [
    "print(len(third_query_coord))"
   ]
  },
  {
   "cell_type": "code",
   "execution_count": 63,
   "metadata": {},
   "outputs": [
    {
     "data": {
      "text/html": [
       "<div style=\"width:100%;\"><div style=\"position:relative;width:100%;height:0;padding-bottom:60%;\"><iframe src=\"data:text/html;charset=utf-8;base64,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\" style=\"position:absolute;width:100%;height:100%;left:0;top:0;border:none !important;\" allowfullscreen webkitallowfullscreen mozallowfullscreen></iframe></div></div>"
      ],
      "text/plain": [
       "<folium.folium.Map at 0x10cca95f8>"
      ]
     },
     "execution_count": 63,
     "metadata": {},
     "output_type": "execute_result"
    }
   ],
   "source": [
    "third_query_heat_map = folium.Map([41.891551, -87.607375],zoom_start = 16)\n",
    "third_query_heat_map.add_child(plugins.HeatMap(third_query_coord,radius=15))"
   ]
  },
  {
   "cell_type": "code",
   "execution_count": 64,
   "metadata": {},
   "outputs": [],
   "source": [
    "fourth_query = {#Fourth query to match the given labels \n",
    "    'size' : 500,\n",
    "    'query' : {\n",
    "        'bool':{\n",
    "            'must' : [{'match':{'DetectionPhase':'Field'}},\n",
    "                      {'match':{'Priority':'Critical'}}, \n",
    "                      {'match':{'Status':'Approved'}}]\n",
    "        }\n",
    "    }\n",
    "}\n",
    "queried_output_fourth = es.search(index = 'issues', body=fourth_query,scroll='1h')#This is a dictionary variable. Pulls data and stores as key value pair in the dictionary."
   ]
  },
  {
   "cell_type": "code",
   "execution_count": 65,
   "metadata": {},
   "outputs": [],
   "source": [
    "sid = queried_output_fourth['_scroll_id']\n",
    "scroll_size = queried_output_fourth['hits']['total']"
   ]
  },
  {
   "cell_type": "code",
   "execution_count": 66,
   "metadata": {},
   "outputs": [],
   "source": [
    "count = 0\n",
    "fourth_query_coord = []\n",
    "while(scroll_size > count):\n",
    "    for doc in queried_output_fourth['hits']['hits']:\n",
    "        location_ll = []\n",
    "        results = doc['_source']\n",
    "        count = count +1\n",
    "        if 'Latitude' in results.keys():\n",
    "            if 'Longitude' in results.keys():\n",
    "                if(results['Latitude'] != None and results['Longitude'] != None):\n",
    "                    location_ll.append(float(results['Latitude']))\n",
    "                    location_ll.append(float(results['Longitude']))\n",
    "                    fourth_query_coord.append(location_ll)\n",
    "    \n",
    "                    "
   ]
  },
  {
   "cell_type": "code",
   "execution_count": 67,
   "metadata": {},
   "outputs": [
    {
     "name": "stdout",
     "output_type": "stream",
     "text": [
      "2\n"
     ]
    }
   ],
   "source": [
    "print(len(fourth_query_coord))"
   ]
  },
  {
   "cell_type": "code",
   "execution_count": 68,
   "metadata": {},
   "outputs": [
    {
     "data": {
      "text/html": [
       "<div style=\"width:100%;\"><div style=\"position:relative;width:100%;height:0;padding-bottom:60%;\"><iframe src=\"data:text/html;charset=utf-8;base64,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\" style=\"position:absolute;width:100%;height:100%;left:0;top:0;border:none !important;\" allowfullscreen webkitallowfullscreen mozallowfullscreen></iframe></div></div>"
      ],
      "text/plain": [
       "<folium.folium.Map at 0x10cc97518>"
      ]
     },
     "execution_count": 68,
     "metadata": {},
     "output_type": "execute_result"
    }
   ],
   "source": [
    "fourth_query_heat_map = folium.Map([41.891551, -87.607375],zoom_start = 16)\n",
    "fourth_query_heat_map.add_child(plugins.HeatMap(fourth_query_coord,radius=15))"
   ]
  },
  {
   "cell_type": "code",
   "execution_count": 69,
   "metadata": {},
   "outputs": [],
   "source": [
    "fifth_query = {#Fifth query to match the given labels \n",
    "    'size' : 500,\n",
    "    'query' : {\n",
    "        'bool':{\n",
    "            'must' : [{'match':{'DetectionPhase':'Field'}},\n",
    "                      {'match':{'Priority':'Critical OR High'}},\n",
    "                      {'match':{'Status':'Approved OR inProgress'}}]\n",
    "    }\n",
    "}\n",
    "}\n",
    "queried_output_fifth = es.search(index = 'issues', body=fifth_query,scroll='1h')#This is a dictionary variable. Pulls data and stores as key value pair in the dictionary."
   ]
  },
  {
   "cell_type": "code",
   "execution_count": 70,
   "metadata": {},
   "outputs": [],
   "source": [
    "sid = queried_output_fifth['_scroll_id']\n",
    "scroll_size = queried_output_fifth['hits']['total']"
   ]
  },
  {
   "cell_type": "code",
   "execution_count": 71,
   "metadata": {},
   "outputs": [],
   "source": [
    "count = 0\n",
    "fifth_query_coord = []\n",
    "while(scroll_size > count):\n",
    "    for doc in queried_output_fifth['hits']['hits']:\n",
    "        location_ll = []\n",
    "        results = doc['_source']\n",
    "        count = count +1\n",
    "        if 'Latitude' in results.keys():\n",
    "            if 'Longitude' in results.keys():\n",
    "                if(results['Latitude'] != None and results['Longitude'] != None):\n",
    "                    location_ll.append(float(results['Latitude']))\n",
    "                    location_ll.append(float(results['Longitude']))\n",
    "                    fifth_query_coord.append(location_ll)\n",
    "    \n",
    "                    "
   ]
  },
  {
   "cell_type": "code",
   "execution_count": 72,
   "metadata": {},
   "outputs": [
    {
     "name": "stdout",
     "output_type": "stream",
     "text": [
      "4\n"
     ]
    }
   ],
   "source": [
    "print(len(fifth_query_coord))"
   ]
  },
  {
   "cell_type": "code",
   "execution_count": 73,
   "metadata": {},
   "outputs": [
    {
     "data": {
      "text/html": [
       "<div style=\"width:100%;\"><div style=\"position:relative;width:100%;height:0;padding-bottom:60%;\"><iframe src=\"data:text/html;charset=utf-8;base64,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\" style=\"position:absolute;width:100%;height:100%;left:0;top:0;border:none !important;\" allowfullscreen webkitallowfullscreen mozallowfullscreen></iframe></div></div>"
      ],
      "text/plain": [
       "<folium.folium.Map at 0x10cca9908>"
      ]
     },
     "execution_count": 73,
     "metadata": {},
     "output_type": "execute_result"
    }
   ],
   "source": [
    "fifth_query_heat_map = folium.Map([41.891551, -87.607375],zoom_start = 16)\n",
    "fifth_query_heat_map.add_child(plugins.HeatMap(fifth_query_coord,radius=15))"
   ]
  },
  {
   "cell_type": "code",
   "execution_count": 74,
   "metadata": {},
   "outputs": [],
   "source": [
    "sixth_query = { #Sixth query to match the given labels \n",
    "    'size' : 500,\n",
    "    'aggs' : {\n",
    "        'data' : {\n",
    "            'terms' : {\n",
    "                'field' : 'Latitude.keyword',\n",
    "                'field' : 'Longitude.keyword',\n",
    "                'min_doc_count' : 5,\n",
    "                'size' : 500\n",
    "            },\n",
    "            'aggs' : {\n",
    "                'top_selection' : {\n",
    "                    'top_hits' : {\n",
    "                        'size' : 10\n",
    "                    }\n",
    "                }\n",
    "            }\n",
    "        }\n",
    "    }\n",
    "}\n",
    "queried_output_sixth = es.search(index = 'issues', body=sixth_query,scroll='1h') #This is a dictionary variable. Pulls data and stores as key value pair in the dictionary.\n"
   ]
  },
  {
   "cell_type": "code",
   "execution_count": 75,
   "metadata": {},
   "outputs": [],
   "source": [
    "sid = queried_output_sixth['_scroll_id']\n",
    "scroll_size = queried_output_sixth['hits']['total']"
   ]
  },
  {
   "cell_type": "code",
   "execution_count": 76,
   "metadata": {},
   "outputs": [],
   "source": [
    "count = 0\n",
    "sixth_query_coord = []\n",
    "for i in queried_output_sixth['aggregations']['data']['buckets']:\n",
    "        location_ll = []\n",
    "        results = i['top_selection']['hits']['hits'][0]['_source']\n",
    "        if 'Latitude' in results.keys():\n",
    "               if 'Longitude' in results.keys():\n",
    "                if(results['Latitude'] != None and results['Longitude'] != None):\n",
    "                    location_ll.append(float(results['Latitude']))\n",
    "                    location_ll.append(float(results['Longitude']))\n",
    "                    sixth_query_coord.append(location_ll)"
   ]
  },
  {
   "cell_type": "code",
   "execution_count": 77,
   "metadata": {},
   "outputs": [
    {
     "name": "stdout",
     "output_type": "stream",
     "text": [
      "14\n"
     ]
    }
   ],
   "source": [
    "print(len(sixth_query_coord))"
   ]
  },
  {
   "cell_type": "code",
   "execution_count": 78,
   "metadata": {},
   "outputs": [
    {
     "data": {
      "text/html": [
       "<div style=\"width:100%;\"><div style=\"position:relative;width:100%;height:0;padding-bottom:60%;\"><iframe src=\"data:text/html;charset=utf-8;base64,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\" style=\"position:absolute;width:100%;height:100%;left:0;top:0;border:none !important;\" allowfullscreen webkitallowfullscreen mozallowfullscreen></iframe></div></div>"
      ],
      "text/plain": [
       "<folium.folium.Map at 0x10cb9c780>"
      ]
     },
     "execution_count": 78,
     "metadata": {},
     "output_type": "execute_result"
    }
   ],
   "source": [
    "sixth_query_heat_map = folium.Map([41.891551, -87.607375],zoom_start = 16)\n",
    "sixth_query_heat_map.add_child(plugins.HeatMap(sixth_query_coord,radius=15))"
   ]
  },
  {
   "cell_type": "code",
   "execution_count": null,
   "metadata": {},
   "outputs": [],
   "source": []
  },
  {
   "cell_type": "code",
   "execution_count": null,
   "metadata": {},
   "outputs": [],
   "source": []
  }
 ],
 "metadata": {
  "kernelspec": {
   "display_name": "Python 3",
   "language": "python",
   "name": "python3"
  },
  "language_info": {
   "codemirror_mode": {
    "name": "ipython",
    "version": 3
   },
   "file_extension": ".py",
   "mimetype": "text/x-python",
   "name": "python",
   "nbconvert_exporter": "python",
   "pygments_lexer": "ipython3",
   "version": "3.6.4"
  }
 },
 "nbformat": 4,
 "nbformat_minor": 2
}
